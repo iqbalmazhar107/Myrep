{
 "cells": [
  {
   "cell_type": "markdown",
   "metadata": {},
   "source": [
    "<center>\n",
    "    <img src=\"https://cf-courses-data.s3.us.cloud-object-storage.appdomain.cloud/IBMDeveloperSkillsNetwork-DS0105EN-SkillsNetwork/labs/Module2/images/SN_web_lightmode.png\" width=\"300\" alt=\"cognitiveclass.ai logo\">\n",
    "</center>\n"
   ]
  },
  {
   "cell_type": "markdown",
   "metadata": {},
   "source": [
    "#### Add your code below following the instructions given in the course\n"
   ]
  },
  {
   "cell_type": "markdown",
   "metadata": {},
   "source": [
    "# My Jupyter Notebook on IBM Watson Studio"
   ]
  },
  {
   "cell_type": "markdown",
   "metadata": {},
   "source": [
    "**Mazhar Iqbal**<br>\n",
    " Data Science Newbee"
   ]
  },
  {
   "cell_type": "markdown",
   "metadata": {},
   "source": [
    "*Data is present all around us in every organization. To investigate trends and draw inferences from the data you need to be proficient in Data Science.*"
   ]
  },
  {
   "cell_type": "markdown",
   "metadata": {},
   "source": [
    "### My code in the next cell will define a mathematical function given below <br>  $ f(t) = a e^{kt} cos{wt}$  where $a=1 , k=0.055,  w=2 $ ### "
   ]
  },
  {
   "cell_type": "code",
   "execution_count": 1,
   "metadata": {},
   "outputs": [],
   "source": [
    "import math as mt\n",
    "\n",
    "def f(t):\n",
    "    a=1.000\n",
    "    k=0.055\n",
    "    w=2.0\n",
    "    value=a*mt.exp(k*t)*mt.cos(w*t)\n",
    "    return value"
   ]
  },
  {
   "cell_type": "markdown",
   "metadata": {},
   "source": [
    "-  First bullet\n",
    "-  Second bullet\n",
    "-  Third bullet\n",
    "\n",
    "1. First numbered item\n",
    "2. Second numbered item\n",
    "3. Third numbered item\n",
    "\n",
    "\n",
    "***\n",
    "`The value of $f(t)$ at different time steps can be summarized as`\n",
    "***\n",
    "|$f(1)$|$f(2)$|\n",
    "|----|----|\n",
    "|-0.4397|-0.7296|\n",
    "\n",
    "\n",
    "<del>Hope I have answered rightly<del>"
   ]
  },
  {
   "cell_type": "code",
   "execution_count": null,
   "metadata": {},
   "outputs": [],
   "source": []
  }
 ],
 "metadata": {
  "kernelspec": {
   "display_name": "Python",
   "language": "python",
   "name": "conda-env-python-py"
  },
  "language_info": {
   "codemirror_mode": {
    "name": "ipython",
    "version": 3
   },
   "file_extension": ".py",
   "mimetype": "text/x-python",
   "name": "python",
   "nbconvert_exporter": "python",
   "pygments_lexer": "ipython3",
   "version": "3.7.12"
  }
 },
 "nbformat": 4,
 "nbformat_minor": 4
}
